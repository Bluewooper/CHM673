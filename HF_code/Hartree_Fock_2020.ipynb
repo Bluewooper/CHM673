{
 "cells": [
  {
   "cell_type": "markdown",
   "metadata": {},
   "source": [
    "# Hartree-Fock (SCF) Procedure\n",
    "\n",
    "#### What are we trying to solve here?\n",
    "\n",
    "$$ \\hat{H}\\psi = E\\psi $$\n",
    "\n",
    "where $\\psi$ is the __electronic__ wave function of the system.\n",
    "\n",
    "After BO approximation, the molecular Hamiltonian looks like:\n",
    "\n",
    "$$ \\hat{H} = \\hat{T}_{e} + \\hat{V}_{eN} + \\color{red}{\\hat{V}_{NN}} + \\hat{V}_{ee} $$\n",
    "\n",
    "where $\\color{red}{\\hat{V}_{NN}}$ is a constant.\n",
    "\n",
    "Let's consider Helium hydride (HeH$^+$) in minimal STO-3G basis.\n",
    "\n",
    "Why Helium hydride? Because $H_2$ is boring!!!"
   ]
  },
  {
   "cell_type": "code",
   "execution_count": null,
   "metadata": {},
   "outputs": [],
   "source": [
    "!cat geom.xyz"
   ]
  },
  {
   "cell_type": "markdown",
   "metadata": {},
   "source": [
    "## Important: We skip through a lot of nasty details such as guess wave function, explicitly computing the integrals, etc.\n",
    "\n",
    "### This is so that we concentrate on the SCF cycle itself.\n",
    "\n",
    "## Step 1: Compute the core Hamiltonian\n",
    "\n",
    "### Step 1a: Compute $ V_{NN} $"
   ]
  },
  {
   "cell_type": "code",
   "execution_count": null,
   "metadata": {},
   "outputs": [],
   "source": [
    "import re, sys, numpy, parse\n",
    "\n",
    "a = parse.parse_file(\"geom.xyz\")\n",
    "\n",
    "num_atoms = 2\n",
    "N_elec = 2\n",
    "E_nn = 0.0\n",
    "z1, z2 = 2.0, 1.0\n",
    "r1 = numpy.array((float(a[2][1]),float(a[2][2]),float(a[2][3])))\n",
    "r2 = numpy.array((float(a[3][1]),float(a[3][2]),float(a[3][3])))\n",
    "r12 = numpy.linalg.norm(r1-r2)*1.889725989\n",
    "E_nn += z1*z2/r12\n",
    "\n",
    "E_nn"
   ]
  },
  {
   "cell_type": "markdown",
   "metadata": {},
   "source": [
    "### Step 1b: Compute one-electron integrals (or read precomputed ones)"
   ]
  },
  {
   "cell_type": "code",
   "execution_count": null,
   "metadata": {},
   "outputs": [],
   "source": [
    "overlap = numpy.genfromtxt('./overlap.dat')\n",
    "T_e = numpy.genfromtxt('./T_e.dat')\n",
    "V_eN = numpy.genfromtxt('./V_eN.dat')"
   ]
  },
  {
   "cell_type": "code",
   "execution_count": null,
   "metadata": {},
   "outputs": [],
   "source": [
    "# Sample: Let's look at the Overlap integral.\n",
    "# 1st and 2nd column belong to basis functions. Third column is the computed overlap value.\n",
    "# Overlap matrix is a square symmetric matrix with all the diagonal elements equal to 1. \n",
    "# Here (and in real QM codes) it is represented as a triangular matrix. \n",
    "\n",
    "!cat overlap.dat"
   ]
  },
  {
   "cell_type": "code",
   "execution_count": null,
   "metadata": {},
   "outputs": [],
   "source": [
    "N_basis = 2  # Minimal basis - STO-3G\n",
    "\n",
    "S, Te, VeN = numpy.zeros((N_basis, N_basis)), numpy.zeros((N_basis, N_basis)), numpy.zeros((N_basis, N_basis))"
   ]
  },
  {
   "cell_type": "code",
   "execution_count": null,
   "metadata": {},
   "outputs": [],
   "source": [
    "for i in range(0,N_basis):\n",
    "    for j in range(0,i+1):\n",
    "        S[i][j] = overlap[i+j][2]\n",
    "        S[j][i] = S[i][j]\n",
    "        #  print(\"{0},{1},{2}\".format(i,j,S[i][j]))\n",
    "\n",
    "for i in range(0,N_basis):\n",
    "    for j in range(0,i+1):\n",
    "        VeN[i][j] = V_eN[i+j][2]\n",
    "        VeN[j][i] = VeN[i][j]\n",
    "\n",
    "for i in range(0,N_basis):\n",
    "    for j in range(0,i+1):\n",
    "        Te[i][j] = T_e[i+j][2]\n",
    "        Te[j][i] = Te[i][j]"
   ]
  },
  {
   "cell_type": "markdown",
   "metadata": {},
   "source": [
    "#### Recap: How are these integrals computed? \n",
    "\n",
    "$$ S_{\\mu\\nu} = \\int \\phi_{\\mu}(r)\\phi_{\\nu}(r)dr $$\n",
    "\n",
    "$$ T_{\\mu\\nu} = \\int \\phi_{\\mu}(r) \\left (-\\frac{1}{2} \\nabla_r^2  \\right ) \\phi_{\\nu}(r)dr $$\n",
    "\n",
    "$$ V_{\\mu\\nu} = \\int \\phi_{\\mu}(r) \\left (- \\sum_{A}^{N}\\frac{Z}{r_A} \\right ) \\phi_{\\nu}(r)dr $$ \n",
    "\n",
    "Let's see how these matrices look like."
   ]
  },
  {
   "cell_type": "code",
   "execution_count": null,
   "metadata": {},
   "outputs": [],
   "source": [
    "import pandas as pd\n",
    "pd.DataFrame(S)  # Print the S Matrix in a readable form"
   ]
  },
  {
   "cell_type": "code",
   "execution_count": null,
   "metadata": {},
   "outputs": [],
   "source": [
    "pd.DataFrame(Te)"
   ]
  },
  {
   "cell_type": "code",
   "execution_count": null,
   "metadata": {},
   "outputs": [],
   "source": [
    "pd.DataFrame(VeN)"
   ]
  },
  {
   "cell_type": "markdown",
   "metadata": {},
   "source": [
    "### Step 1c: Form the core Hamiltonian\n",
    "\n",
    "$$ H_{\\mu\\nu}^{core} = T_{\\mu\\nu} + V_{\\mu\\nu} $$"
   ]
  },
  {
   "cell_type": "code",
   "execution_count": null,
   "metadata": {},
   "outputs": [],
   "source": [
    "core_H = VeN + Te\n",
    "pd.DataFrame(core_H)"
   ]
  },
  {
   "cell_type": "markdown",
   "metadata": {},
   "source": [
    "### Step 1d: Form 2-electron index (using permutational symmetry)"
   ]
  },
  {
   "cell_type": "code",
   "execution_count": null,
   "metadata": {},
   "outputs": [],
   "source": [
    "V_ee = numpy.genfromtxt('./V_ee.dat')\n",
    "\n",
    "def eint(a,b,c,d):  \n",
    "    if a > b: ab = a*(a+1)/2 + b  \n",
    "    else: ab = b*(b+1)/2 + a  \n",
    "    if c > d: cd = c*(c+1)/2 + d  \n",
    "    else: cd = d*(d+1)/2 + c  \n",
    "    if ab > cd: abcd = ab*(ab+1)/2 + cd  \n",
    "    else: abcd = cd*(cd+1)/2 + ab  \n",
    "    return abcd\n",
    "\n",
    "ee_dict = {eint(row[0],row[1],row[2],row[3]) : row[4] for row in V_ee}\n",
    "#ee_dict"
   ]
  },
  {
   "cell_type": "markdown",
   "metadata": {},
   "source": [
    "### Step 2: Build the Orthogonalization matrix\n",
    "\n",
    "$$ SL_S = L_S\\epsilon_S $$\n",
    "\n",
    "where $\\epsilon$ is the diagonal matrix of eigenvalues and $ L_S $ is the matrix of eigenvectors.\n",
    "\n",
    "$$ S^{-1/2} = L_{S} \\epsilon^{-1/2} L_S^T $$\n",
    "\n",
    "which is the symmetric orthogonalization matrix."
   ]
  },
  {
   "cell_type": "code",
   "execution_count": null,
   "metadata": {},
   "outputs": [],
   "source": [
    "S_eigval, S_eigvec = numpy.linalg.eig(S)\n",
    "\n",
    "pd.DataFrame(S_eigval)"
   ]
  },
  {
   "cell_type": "code",
   "execution_count": null,
   "metadata": {},
   "outputs": [],
   "source": [
    "S_eigval_minhalf = numpy.diag(S_eigval**(-0.5))\n",
    "pd.DataFrame(S_eigval_minhalf)"
   ]
  },
  {
   "cell_type": "code",
   "execution_count": null,
   "metadata": {},
   "outputs": [],
   "source": [
    "# S_minhalf = numpy.dot(S_eigvec,numpy.dot(S_eigval_minhalf,numpy.transpose(S_eigvec))) \n",
    "# pd.DataFrame(S_minhalf)"
   ]
  },
  {
   "cell_type": "code",
   "execution_count": null,
   "metadata": {},
   "outputs": [],
   "source": [
    "S_mh = S_eigvec @ S_eigval_minhalf @ S_eigvec.T\n",
    "pd.DataFrame(S_mh)"
   ]
  },
  {
   "cell_type": "markdown",
   "metadata": {},
   "source": [
    "### Step 3: Main SCF Loop\n",
    "\n",
    "Initial (guess) Fock matrix (in the orthonormal AO basis) using the core Hamiltonian as a guess:\n",
    "\n",
    "$$ F_0 = ({S}^{-1/2})^T H^{core}S^{-1/2} $$\n",
    "\n",
    "Diagonalize the Fock matrix:\n",
    "\n",
    "$$ F_0 C_0^\\prime = C_0^\\prime \\epsilon_0 $$\n",
    "\n",
    "Now, transform the eigenvectors into the original (non-orthogonal) AO basis:\n",
    "\n",
    "$$ C_0 = S^{-1/2} C_0^\\prime $$\n",
    "\n"
   ]
  },
  {
   "cell_type": "code",
   "execution_count": null,
   "metadata": {},
   "outputs": [],
   "source": [
    "P = numpy.zeros((N_basis, N_basis))   # The density matrix - set to zero initially.\n",
    "\n",
    "# We do not explicitly work with the G-pqrs Matrix! We compute all the\n",
    "# 2-e integrals on the fly, or read from file...\n",
    "\n",
    "# G = numpy.zeros((N_basis, N_basis))   # Initialize the G-monster!\n",
    "\n",
    "\n",
    "# NOTE: Read the definitions AFTER going through the main SCF cycle (last few lines of this block)\n",
    "\n",
    "\n",
    "def deltap(P,OLDP, dim):  \n",
    "    DELTA = 0.0e0  \n",
    "    for i in range(0,dim):  \n",
    "        for j in range(0,dim):  \n",
    "            DELTA = DELTA+((P[i,j]-OLDP[i,j])**2)  \n",
    "    DELTA = (DELTA/4)**(0.5)  \n",
    "    return DELTA\n",
    "\n",
    "def currentenergy(P,Hcore,F,dim):  \n",
    "    EN = 0.0e0  \n",
    "    for mu in range(0,dim):  \n",
    "        for nu in range(0,dim):  \n",
    "            EN = EN + 0.5*P[mu,nu]*(Hcore[mu,nu] + F[mu,nu])  \n",
    "    return EN\n",
    "\n",
    "def makedensity(C,P,dim,Nelec):  \n",
    "    OLDP = numpy.zeros((dim,dim))  \n",
    "    for mu in range(0,dim):  \n",
    "        for nu in range(0,dim):  \n",
    "            OLDP[mu,nu] = P[mu,nu]\n",
    "            P[mu,nu] = 0.0e0\n",
    "            for m in range(0,Nelec//2):  \n",
    "                P[mu,nu] = P[mu,nu] + 2*C[mu,m]*C[nu,m]  \n",
    "    return P, OLDP\n",
    "\n",
    "def tei(a,b,c,d):  \n",
    "    return ee_dict.get(eint(a,b,c,d),0.0)\n",
    "\n",
    "def diagonalize(M):  \n",
    "    e,Cprime = numpy.linalg.eigh(M)  \n",
    "    #e=np.diag(e)  \n",
    "    C = numpy.dot(S_minhalf,Cprime)  \n",
    "    return e,C\n",
    "\n",
    "def make_fock(Hcore,P,dim):  \n",
    "    F = numpy.zeros((dim,dim))  \n",
    "    for i in range(0,dim):  \n",
    "        for j in range(0,dim):  \n",
    "            F[i,j] = Hcore[i,j]  \n",
    "            for k in range(0,dim):  \n",
    "                for l in range(0,dim):  \n",
    "                    F[i,j] = F[i,j] + P[k,l]*(tei(i+1,j+1,k+1,l+1)-0.5e0*tei(i+1,k+1,j+1,l+1))  \n",
    "    return F\n",
    "\n",
    "def fprime(X,F):  \n",
    "    return numpy.dot(numpy.transpose(X),numpy.dot(F,X))\n",
    "\n",
    "\n",
    "## MAIN SCF CYCLE !!!\n",
    "\n",
    "for i in range(1, 11):\n",
    "    print (\"\\n\\nSCF Cycle \", i)\n",
    "    F = make_fock(core_H, P, N_basis)\n",
    "    print (\"\\n\\nFock Matrix :\\n\", F)\n",
    "    \n",
    "    Fprime = fprime(S_minhalf,F)\n",
    "    print (\"\\n\\nF-Prime :\\n\", Fprime)\n",
    "    \n",
    "    E,Cprime = numpy.linalg.eigh(Fprime)\n",
    "    # C = numpy.dot(S_minhalf,Cprime)\n",
    "    C = S_minhalf @ Cprime\n",
    "    E,C = diagonalize(Fprime)\n",
    "    print (\"\\n\\nC-Matrix :\\n\", C)\n",
    "    print (\"\\n\\nE-vector :\\n\", E)\n",
    "    \n",
    "    P,OLDP = makedensity(C,P,N_basis,N_elec)\n",
    "    DELTA = deltap(P,OLDP, N_basis)\n",
    "    print (\"\\n\\nDensity Matrix :\\n\", P)\n",
    "    \n",
    "    EN = currentenergy(P,core_H,F,N_basis)\n",
    "    print (\"\\n\\nCurrent Energy = \", EN + E_nn)\n",
    "    i += 1\n",
    "\n",
    "print (\"\\n\\nEnd of %i SCF iterations. Final RHF energy = %9.8f\"%(i-1, EN+E_nn))\n"
   ]
  },
  {
   "cell_type": "markdown",
   "metadata": {},
   "source": [
    "### Now, what can be done to improve the SCF code?\n",
    "\n",
    "Question: Why are we setting the total number of SCF cycles (= 10) in advance?\n",
    "\n",
    "Isn't it wrong to assume that the SCF converges in a set number of cycles? Instead:\n",
    "\n",
    "* We can set an energy change threshold\n",
    "\n",
    "* We can set a density change threshold\n",
    "\n",
    "* We can set a density as well as energy change threshold, which is done in most software packages"
   ]
  },
  {
   "cell_type": "code",
   "execution_count": null,
   "metadata": {},
   "outputs": [],
   "source": [
    "delta_E = 1.00                        # Change in energy. Start with a high number.\n",
    "threshold = 0.00000001                # Energy threshold = 10^-8\n",
    "energies = [0.50]                     # Set to a large number so that delta_E is high to start with...\n",
    "P = numpy.zeros((N_basis, N_basis))   # The density matrix - set to zero initially.\n",
    "i = 1\n",
    "\n",
    "while delta_E > threshold:\n",
    "    print (\"\\n\\nSCF Cycle \", i)\n",
    "    F = make_fock(core_H, P, N_basis)\n",
    "#    print \"\\n\\nFock Matrix :\\n\", F\n",
    "    Fprime = fprime(S_minhalf,F)\n",
    "#    print \"\\n\\nF-Prime :\\n\", Fprime\n",
    "    E,Cprime = numpy.linalg.eigh(Fprime)\n",
    "    C = numpy.dot(S_minhalf,Cprime)\n",
    "    E,C = diagonalize(Fprime)\n",
    "#    print \"\\n\\nC-Matrix :\\n\", C\n",
    "    P,OLDP = makedensity(C,P,N_basis,N_elec)\n",
    "    DELTA = deltap(P,OLDP, N_basis)\n",
    "#    print \"\\n\\nDensity Matrix :\\n\", P\n",
    "    EN = currentenergy(P,core_H,F,N_basis)\n",
    "    energies.append(EN)\n",
    "    delta_E = abs(energies[-1] - energies[-2])\n",
    "    print (\"\\n\\nCurrent Energy = \", EN + E_nn)\n",
    "    i += 1\n",
    "\n",
    "print (\"\\n\\nConvergence criterion reached. Final RHF energy =\", EN+E_nn)\n"
   ]
  },
  {
   "cell_type": "markdown",
   "metadata": {},
   "source": [
    "__QUIZ: The LUMO energy is negative. Does it mean anything?__\n",
    "Hint: We are looking at (HeH+) system."
   ]
  },
  {
   "cell_type": "code",
   "execution_count": null,
   "metadata": {},
   "outputs": [],
   "source": [
    "pd.DataFrame(E)"
   ]
  },
  {
   "cell_type": "markdown",
   "metadata": {},
   "source": [
    "\n",
    "## Moving on to computing integrals explicitly:\n",
    "\n",
    "What does a 3D gaussian function look like?\n",
    "\n",
    "$$ G_{ijk}(r,\\alpha,A) = x_A^i y_A^j z_A^k exp(-\\alpha r_A^2) $$\n",
    "\n",
    "with orbital exponent α, electronic coordinates r, origin A, and $r_A = r - A $.\n",
    "\n",
    "Also, i, j, k are angular quantum numbers (i = 0 is s-type, i = 1 is p-type, etc.)\n",
    "\n",
    "They are separable in such a way that \n",
    "\n",
    "$$ G_{ijk} (r,\\alpha, A) = G_i(x,\\alpha, A_x) G_j(y,\\alpha, A_y) G_k(z,\\alpha, A_z) $$\n",
    "\n",
    "where the 1-D gaussian is given by:\n",
    "\n",
    "$$ G_i(x,\\alpha, A_x) = (x-A_x)^i exp(-\\alpha(x-A_x)^2) $$\n",
    "\n",
    "Let's look at a very basic case of evaluating the overlap integral between two non-contracted spherical gaussian functions.\n",
    "\n"
   ]
  },
  {
   "cell_type": "code",
   "execution_count": null,
   "metadata": {},
   "outputs": [],
   "source": [
    "def eval_gaussian(Qx,a,b):\n",
    "    q = a*b/(a+b)\n",
    "    return numpy.exp(-q*Qx*Qx)\n",
    "\n",
    "def overlap(a,A,b,B):\n",
    "    ''' Evaluates overlap integral between two Gaussians\n",
    "        Returns a float.\n",
    "        a:    orbital exponent on Gaussian 'a' (e.g. alpha in the text)\n",
    "        b:    orbital exponent on Gaussian 'b' (e.g. beta in the text)\n",
    "        A:    list containing origin of Gaussian 'a', e.g. [1.0, 2.0, 0.0]\n",
    "        B:    list containing origin of Gaussian 'b'\n",
    "    '''\n",
    "    n = 0.458593068985           # Normalization factor\n",
    "    S1 = eval_gaussian(A[0]-B[0],a,b) # X\n",
    "    S2 = eval_gaussian(A[1]-B[1],a,b) # Y\n",
    "    S3 = eval_gaussian(A[2]-B[2],a,b) # Z\n",
    "    return S1*S2*S3*numpy.power(numpy.pi/(n*(a+b)),1.5)"
   ]
  },
  {
   "cell_type": "markdown",
   "metadata": {},
   "source": [
    "## Now let's try to compute the integrals ourselve. \n",
    "\n",
    "Let's start with overlap integral. \n",
    "For simplicity, consider $H_2$ molecule in STO-3G basis - so each hydrogen contains a single 1s orbital. \n",
    "\n",
    "We can use the STO-3G basis for hydrogen (you can grab it from https://bse.pnl.gov/bse/portal).\n",
    "\n",
    "$\\alpha$ = 3.42525091\n",
    "\n",
    "Let us center Hydrogens (and 1s gaussians) at 0.0 and 0.74 respectively."
   ]
  },
  {
   "cell_type": "code",
   "execution_count": null,
   "metadata": {},
   "outputs": [],
   "source": [
    "a = 3.42525091\n",
    "b = 3.42525091\n",
    "i = [0.0,0.0,0.0]\n",
    "j = [0.74,0.0,0.0]\n",
    "\n",
    "\n",
    "overlap(a, i, b, j)"
   ]
  },
  {
   "cell_type": "markdown",
   "metadata": {},
   "source": [
    "What if you consider the overlap between two gaussians centered around the same point?"
   ]
  },
  {
   "cell_type": "code",
   "execution_count": null,
   "metadata": {},
   "outputs": [],
   "source": [
    "a = 3.42525091\n",
    "b = 3.42525091\n",
    "i = [0.0,0.0,0.0]\n",
    "j = [0.74,0.0,0.0]\n",
    "\n",
    "overlap(a, i, b, i)"
   ]
  },
  {
   "cell_type": "code",
   "execution_count": null,
   "metadata": {},
   "outputs": [],
   "source": [
    "S = [[0.0, 0.0], [0.0, 0.0]]\n",
    "for x in range(2):\n",
    "    S[0][0] = overlap(a, i, b, i)\n",
    "    S[0][1] = overlap(a, i, b, j)\n",
    "    S[1][0] = overlap(a, j, b, i) # Alternately, can use only upper/lower triangle of the overlap matrix.\n",
    "    S[1][1] = overlap(a, j, b, j)\n",
    "    \n",
    "pd.DataFrame(S)   # Print the Overlap matrix"
   ]
  },
  {
   "cell_type": "markdown",
   "metadata": {},
   "source": [
    "### Formulas for other integrals between 1s gaussians are provided in Appendix A of Szabo & Ostlund book. \n",
    "(Formulas A.11, A.33, A.41).\n",
    "\n",
    "Note that electron-nuclear attraction and electron repulsion integrals are computed using error function err. Eff is implemented in scipy.\n",
    "\n",
    "Please write a code to compute all these integrals\n",
    "\n",
    "... and compute the HF energy of $H_2$\n",
    "\n",
    "Now you can compute HF energy of $H_2$ at any bond distance. --- This is an optional step, you can skip it if busy... "
   ]
  },
  {
   "cell_type": "code",
   "execution_count": null,
   "metadata": {},
   "outputs": [],
   "source": [
    "# example of calling erf()\n",
    "# from scipy import special\n",
    "# y = special.erf(x)\n"
   ]
  },
  {
   "cell_type": "code",
   "execution_count": null,
   "metadata": {},
   "outputs": [],
   "source": []
  }
 ],
 "metadata": {
  "kernelspec": {
   "display_name": "Python 3",
   "language": "python",
   "name": "python3"
  },
  "language_info": {
   "codemirror_mode": {
    "name": "ipython",
    "version": 3
   },
   "file_extension": ".py",
   "mimetype": "text/x-python",
   "name": "python",
   "nbconvert_exporter": "python",
   "pygments_lexer": "ipython3",
   "version": "3.7.4"
  }
 },
 "nbformat": 4,
 "nbformat_minor": 2
}
