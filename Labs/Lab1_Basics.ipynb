{
 "cells": [
  {
   "cell_type": "markdown",
   "metadata": {},
   "source": [
    "## Lab 1. Electronic Structure Calculations: Basics\n",
    "\n",
    "In this lab you will:\n",
    "\n",
    "* Perform basic *ab initio* calculations in Psi4. \n",
    "* Learn how to create an input for evaluation of basic properties. \n",
    "* Compute the energy differences between different conformations of the same molecules. \n",
    "* Calculate the interaction energies between two molecules. \n",
    "\n",
    "Authors: Lyudmila Slipchenko (lslipchenko@purdue.edu; ORCID: 0000-0002-0445-2990) and Victor H. Chavez (gonza445@purdue.edu; ORCID: 0000-0003-3765-2961)"
   ]
  },
  {
   "cell_type": "markdown",
   "metadata": {},
   "source": [
    "***"
   ]
  },
  {
   "cell_type": "code",
   "execution_count": null,
   "metadata": {},
   "outputs": [],
   "source": [
    "#You will need to import the following modules to run calculations. \n",
    "#Scientific Python tools\n",
    "import numpy as np\n",
    "import pandas as pd\n",
    "\n",
    "#Computational Chemistry Tools\n",
    "import psi4\n",
    "\n",
    "#Visualization tools\n",
    "import matplotlib.pyplot as plt\n",
    "import qcelemental as qc"
   ]
  },
  {
   "cell_type": "markdown",
   "metadata": {},
   "source": [
    "### Part A: Computing energies of different conformations"
   ]
  },
  {
   "cell_type": "code",
   "execution_count": null,
   "metadata": {},
   "outputs": [],
   "source": [
    "#Let us create a water molecule in psi4. We require a string with three main components:\n",
    "#Charge and spin multiplicity \n",
    "#Geometry (Z-matrix, xyz)\n",
    "#Symmetry\n",
    "\n",
    "bent_geometry = psi4.geometry(\"\"\"\n",
    "0 1\n",
    "\n",
    "O\n",
    "H 1 0.96\n",
    "H 1 0.96 2 104.5\n",
    "\n",
    "symmetry c1\n",
    "\"\"\")\n",
    "\n",
    "#Perform an energy calculation for water using:\n",
    "e_bent   = psi4.energy(\"HF/6-31G*\", molecule=bent_geometry)"
   ]
  },
  {
   "cell_type": "code",
   "execution_count": null,
   "metadata": {},
   "outputs": [],
   "source": [
    "#The Psi4 geometry class gives the geometrical information to QCElemental for plotting.\n",
    "print(\"Bent water molecule\")\n",
    "\n",
    "bent = qc.models.Molecule.from_data(bent_geometry.save_string_xyz())\n",
    "bent.show()"
   ]
  },
  {
   "cell_type": "code",
   "execution_count": null,
   "metadata": {},
   "outputs": [],
   "source": [
    "#Based on the example of the bent water, define a geometry and make an energy calculation for a linear molecule\n",
    "\n",
    "#Input as cartesian coordinates for linear water molecule\n",
    "linear_geometry = psi4.geometry(\"\"\"\n",
    "0 1\n",
    "\n",
    "O \n",
    "H 1 0.96\n",
    "H 1 0.96 2 180.0\n",
    "\"\"\")\n",
    "\n",
    "#Energy calculation\n",
    "e_linear   = psi4.energy(\"HF/6-31G*\", molecule=linear_geometry)"
   ]
  },
  {
   "cell_type": "code",
   "execution_count": null,
   "metadata": {},
   "outputs": [],
   "source": [
    "#Confirm that your geometry is correct by showing the structure\n",
    "\n",
    "print(\"Linear water molecule\")\n",
    "\n",
    "linear = qc.models.Molecule.from_data(linear_geometry.save_string_xyz())\n",
    "linear.show()"
   ]
  },
  {
   "cell_type": "code",
   "execution_count": null,
   "metadata": {
    "scrolled": true
   },
   "outputs": [],
   "source": [
    "#Pandas is a library designed to work nicely with databases. \n",
    "#If you followed the naming patterns for the variables, you should see a nice table with your results.\n",
    "\n",
    "#Print results\n",
    "water = pd.DataFrame(data = {'Linear':[e_linear], 'Bent':[e_bent]})\n",
    "water.index=['Energy']\n",
    "water"
   ]
  },
  {
   "cell_type": "markdown",
   "metadata": {},
   "source": [
    "### Questions:"
   ]
  },
  {
   "cell_type": "markdown",
   "metadata": {},
   "source": [
    "a) Compare the total energy of bent and linear water. What are their relative energies? Express the relative energies in terms of kJ/mol, kcal/mol and in hartrees. Keeping in mind that the Boltzmann energy at room temperature $K_{B}T$, is the linear water conformation easily accessible at room temperature?"
   ]
  },
  {
   "cell_type": "code",
   "execution_count": null,
   "metadata": {},
   "outputs": [],
   "source": [
    "#Response"
   ]
  },
  {
   "cell_type": "markdown",
   "metadata": {},
   "source": [
    "b) **Extra**: You can repeat the same steps with planar and pyramidal ammonia $NH_3$ to see if the \"umbrella inversion\" process is feasible at room temperature. Is tunnelling a factor in this inversion process?"
   ]
  },
  {
   "cell_type": "code",
   "execution_count": null,
   "metadata": {},
   "outputs": [],
   "source": [
    "#Response"
   ]
  },
  {
   "cell_type": "markdown",
   "metadata": {},
   "source": [
    "***"
   ]
  },
  {
   "cell_type": "markdown",
   "metadata": {},
   "source": [
    "### Part B: Computing interaction energies"
   ]
  },
  {
   "cell_type": "markdown",
   "metadata": {},
   "source": [
    "1. Compute the energies of two water clusters using the following given geometry at **HF/6-31G(d)** level of theory:\n",
    "\n",
    "    O    -0.089523    0.063946    0.08686  \n",
    "    H     0.864783    0.058339    0.103755  \n",
    "    H    -0.329829    0.979459    0.078369  \n",
    "    O     2.632273   -0.313504   -0.750376  \n",
    "    H     3.268182   -0.937310   -0.431464  \n",
    "    H     2.184198   -0.753305   -1.469059\n",
    "    \n",
    "\n",
    "2. Show the geometry of the cluster. \n",
    "3. Make a table showing energies of two monomers, cluster and the interaction energy.\n",
    "\n",
    "Hint: Compute the energy of the first monomer $A$ (first three atoms), then compute the energy of the second monomer $B$ (last three atoms), followed by the energy of the dimer $AB$ (all six atoms). \n",
    "\n",
    "The total interaction energy: \n",
    "$$ E_{int} = E(AB) - (E(A) - E(B)) $$"
   ]
  },
  {
   "cell_type": "code",
   "execution_count": null,
   "metadata": {},
   "outputs": [],
   "source": [
    "#Response\n",
    "#Each of the monomers in the cluster is a water molecue, we can then recycle the energy of the previous calculation.\n",
    "\n",
    "#Calculate cluster energy\n",
    "cluster_geometry = psi4.geometry(\"\"\"\n",
    "0 1\n",
    "     O    -0.089523    0.063946    0.086866\n",
    "     H     0.864783    0.058339    0.103755\n",
    "     H    -0.329829    0.979459    0.078369\n",
    "     O     2.632273   -0.313504   -0.750376\n",
    "     H     3.268182   -0.937310   -0.431464\n",
    "     H     2.184198   -0.753305   -1.469059\n",
    "\"\"\")\n",
    "\n",
    "\n",
    "cluster = qc.models.Molecule.from_data(cluster_geometry.save_string_xyz())\n",
    "cluster.show()"
   ]
  },
  {
   "cell_type": "code",
   "execution_count": null,
   "metadata": {},
   "outputs": [],
   "source": [
    "e_cluster = psi4.energy('HF/6-31G*', molecule=cluster_geometry)"
   ]
  },
  {
   "cell_type": "code",
   "execution_count": null,
   "metadata": {
    "scrolled": true
   },
   "outputs": [],
   "source": [
    "interaction = pd.DataFrame(data = {'Monomer':[2*e_bent], 'Cluster':[e_cluster]})\n",
    "interaction.index=['Energy']\n",
    "interaction['$E_{int}$ (Hartrees)'] = interaction['Monomer'] - interaction['Cluster']\n",
    "interaction"
   ]
  },
  {
   "cell_type": "markdown",
   "metadata": {},
   "source": [
    "### Questions"
   ]
  },
  {
   "cell_type": "markdown",
   "metadata": {},
   "source": [
    "a) Show the three different energies (monomer, cluster, interaction) in hartrees, kJ/mol and kcal/mol. (Pandas has the ability of multiplying a whole column/row by a constant)"
   ]
  },
  {
   "cell_type": "code",
   "execution_count": null,
   "metadata": {},
   "outputs": [],
   "source": [
    "#Response"
   ]
  },
  {
   "cell_type": "markdown",
   "metadata": {},
   "source": [
    "***"
   ]
  },
  {
   "cell_type": "markdown",
   "metadata": {},
   "source": [
    "### Part C: Fun with formaldehyde."
   ]
  },
  {
   "cell_type": "markdown",
   "metadata": {},
   "source": [
    "#### 1. With the following geomtry build a formaldehyde molecule:\n",
    "    \n",
    "      H   -0.0000000    0.9275885    1.1766889  \n",
    "      C   -0.0000000    0.0000000    0.6019825  \n",
    "      H   -0.0000000   -0.9275885    1.1766889  \n",
    "      O    0.0000000   -0.0000000   -0.6001772  \n",
    "      \n",
    "      \n",
    "#### 2. Perform energy calculation of the molecule at the **HF/6-31G*** level of theory. \n",
    "\n",
    " "
   ]
  },
  {
   "cell_type": "code",
   "execution_count": null,
   "metadata": {},
   "outputs": [],
   "source": [
    "#Define geometry\n",
    "\n",
    "formal = psi4.geometry(\"\"\"\n",
    "noreorient\n",
    "\n",
    "  H   -0.0000000    0.9275885    1.1766889\n",
    "  C   -0.0000000    0.0000000    0.6019825\n",
    "  H   -0.0000000   -0.9275885    1.1766889\n",
    "  O    0.0000000   -0.0000000   -0.6001772\n",
    "  \n",
    "symmetry c1\n",
    "\"\"\")\n",
    "\n",
    "#Perform calculation to check current energy\n",
    "energy  = psi4.energy('HF/6-31G*', molecule=formal)\n",
    "print(energy)"
   ]
  },
  {
   "cell_type": "code",
   "execution_count": null,
   "metadata": {},
   "outputs": [],
   "source": [
    "#It is a good idea to keep the the output file.\n",
    "#Psi4Numpy prints it to the terminal by default.\n",
    "\n",
    "psi4.core.set_output_file(\"optimize.dat\")"
   ]
  },
  {
   "cell_type": "markdown",
   "metadata": {},
   "source": [
    "Let us confirm that the previous geometry for formaldehyde has been optimized.\n",
    "\n",
    "We use `psi4.optimize` in order to achieve this. \n",
    "The syntax for it is the following:"
   ]
  },
  {
   "cell_type": "code",
   "execution_count": null,
   "metadata": {},
   "outputs": [],
   "source": [
    "energy, history = psi4.optimize('HF/6-31G*', molecule=formal, return_history=True)\n",
    "#return_history has some information about the miminzation.\n",
    "print(energy)"
   ]
  },
  {
   "cell_type": "markdown",
   "metadata": {},
   "source": [
    "#### Compare the two energies. What can you notice? \n",
    "Now, go the file created \"optimize.dat\". It includes the SCF calculation of each step in the geometry optimization.  \n",
    "The last part of the file has the Total Energy per optimization step.  \n",
    "The extra columns (Delta E, MAX Force, etc) are used as converge parameters.  "
   ]
  },
  {
   "cell_type": "code",
   "execution_count": null,
   "metadata": {},
   "outputs": [],
   "source": [
    "#The optimized geometry can now be extracted with:\n",
    "\n",
    "history[\"coordinates\"][-1].np"
   ]
  },
  {
   "cell_type": "code",
   "execution_count": null,
   "metadata": {},
   "outputs": [],
   "source": [
    "#Use the updated coordinates for the following parts. "
   ]
  },
  {
   "cell_type": "markdown",
   "metadata": {},
   "source": [
    "***"
   ]
  },
  {
   "cell_type": "markdown",
   "metadata": {},
   "source": [
    "### Orbitals & Density"
   ]
  },
  {
   "cell_type": "markdown",
   "metadata": {},
   "source": [
    "In this part you will visualize fundamental volumetric information of a molecule, being the electron density and the molecular orbitals. In order to do this, Psi4 needs to know in advance that you are interested in these quantities. The keyword is as follows:"
   ]
  },
  {
   "cell_type": "code",
   "execution_count": null,
   "metadata": {},
   "outputs": [],
   "source": [
    "psi4.set_options({'cubeprop_tasks': ['orbitals', 'density'],\n",
    "                  'cubeprop_orbitals':  [12],\n",
    "                  })"
   ]
  },
  {
   "cell_type": "code",
   "execution_count": null,
   "metadata": {},
   "outputs": [],
   "source": [
    "#You can proceed and define the geometry of a formaldehyde molecule. "
   ]
  },
  {
   "cell_type": "code",
   "execution_count": null,
   "metadata": {},
   "outputs": [],
   "source": [
    "#Response\n",
    "\n",
    "\n",
    "formal = psi4.geometry(\"\"\"\n",
    "0 1\n",
    "  H   -0.0000000    0.9275885    1.1766889\n",
    "  C   -0.0000000    0.0000000    0.6019825\n",
    "  H   -0.0000000   -0.9275885    1.1766889\n",
    "  O    0.0000000   -0.0000000   -0.6001772\n",
    "  \n",
    "symmetry c1\n",
    "\"\"\")"
   ]
  },
  {
   "cell_type": "markdown",
   "metadata": {},
   "source": [
    "#### The information about the densities and orbitals are contained within Psi4 in a \"wavefunction\" object. This can be obtained from your usual energy calculation simply by modifying slightly your syntax:\n",
    "\n",
    "##### e_formal, wfn_formal = psi4.energy('HF/sto-3g', return_wfn=True, molecule = formal)\n",
    "\n",
    "#### The \"wfn_formal\" contains much of the information required to perform the calculation, it can give you basic information about the geometry, but also contains important scf quantities like the one particle density matrix. "
   ]
  },
  {
   "cell_type": "code",
   "execution_count": null,
   "metadata": {},
   "outputs": [],
   "source": [
    "#Use the previous syntax to get the energy and wavefunction object for formaldehyde. \n",
    "e_formal, wfn_formal = psi4.energy('HF/sto-3g', return_wfn=True, molecule = formal)"
   ]
  },
  {
   "cell_type": "code",
   "execution_count": null,
   "metadata": {},
   "outputs": [],
   "source": [
    "formal = qc.models.Molecule.from_data(formal.save_string_xyz())\n",
    "formal.show()"
   ]
  },
  {
   "cell_type": "code",
   "execution_count": null,
   "metadata": {},
   "outputs": [],
   "source": [
    "#Let's visualize the previous quantities, we need the library \"blobs\". \n",
    "#The syntax is the following, you need to use the wavefunction object you just created. \n",
    "import blobs\n",
    "cube = blobs.Cube(wfn_formal)\n",
    "\n",
    "#By running this cell, blobs should generate a series of files containing the information:\n",
    "#Density = Alpha density (Da), Beta density (Db), Total density(Dt), Density difference(Ds)\n",
    "#Orbitals = {Psi_a_n_n-A.cube}_n with n being the number of orbital"
   ]
  },
  {
   "cell_type": "code",
   "execution_count": null,
   "metadata": {},
   "outputs": [],
   "source": [
    "#Plot of Density\n",
    "cube.plot(\"Dt.cube\")"
   ]
  },
  {
   "cell_type": "code",
   "execution_count": null,
   "metadata": {},
   "outputs": [],
   "source": [
    "#Plots of orbitals\n",
    "cube.plot(\"Psi_a_12_12-A.cube\", cube_type=\"orbital\")"
   ]
  },
  {
   "cell_type": "markdown",
   "metadata": {},
   "source": [
    "#### 1. Use the previous syntax to visualize the molecular orbitals and save as an image the 8 occupied and 4 virtual (unoccupied) orbitals. Provide their orbital energies (in Hartrees), and assign the characher (i.e., bonding/antibonding/lone pair, sigma or pi, etc.). The character may be ambiguous, but do your best. Based on this analysis, write down electronic configuration of $CH_2O$. \n",
    "\n",
    "**Hint**: Orbital energies can be accessed from the wavefunction as in:\n",
    "wfn_formal.epsilon_a().np"
   ]
  },
  {
   "cell_type": "code",
   "execution_count": null,
   "metadata": {},
   "outputs": [],
   "source": [
    "#Response"
   ]
  },
  {
   "cell_type": "markdown",
   "metadata": {},
   "source": [
    "#### 2. Present a geometry in such a way that chemists (not computer), could understand it: write down bbond lenghts and valence angles, not xyz coordinates. Write down the nuclear repulsion and electronic energies in Hartrees (check the output in the terminal)"
   ]
  },
  {
   "cell_type": "code",
   "execution_count": null,
   "metadata": {},
   "outputs": [],
   "source": [
    "#Response"
   ]
  },
  {
   "cell_type": "markdown",
   "metadata": {},
   "source": [
    "***"
   ]
  },
  {
   "cell_type": "markdown",
   "metadata": {},
   "source": [
    "### Frequency calculation\n",
    "\n",
    "#### Perform vibrational frequency calculation of formaldehyde at equilibrium geometry at same level of theory (HF/6-31G*). Instead of using psi4.energy, replace and use psi4.frequencies. It is important that you obtain the wavefunction object just like you did for the cube files. "
   ]
  },
  {
   "cell_type": "code",
   "execution_count": null,
   "metadata": {},
   "outputs": [],
   "source": [
    "#Tell psi4 that we want to store the information about the normal modes:\n",
    "psi4.set_options({\"NORMAL_MODES_WRITE\" : True})\n",
    "\n",
    "#Frequencies calculation\n",
    "scf_e, scf_wfn = psi4.frequencies('HF/6-31G*', return_wfn=True)"
   ]
  },
  {
   "cell_type": "markdown",
   "metadata": {},
   "source": [
    "#### The information about the frequencies can be extracted from the wavefunction. Blobs is also use to examine this results."
   ]
  },
  {
   "cell_type": "code",
   "execution_count": null,
   "metadata": {},
   "outputs": [],
   "source": [
    "vib = blobs.Freq(scf_wfn)"
   ]
  },
  {
   "cell_type": "code",
   "execution_count": null,
   "metadata": {
    "scrolled": true
   },
   "outputs": [],
   "source": [
    "#Obtain the frequencies with:\n",
    "vib.frequencies"
   ]
  },
  {
   "cell_type": "code",
   "execution_count": null,
   "metadata": {},
   "outputs": [],
   "source": [
    "#Visualize the vibrations with:"
   ]
  },
  {
   "cell_type": "code",
   "execution_count": null,
   "metadata": {},
   "outputs": [],
   "source": [
    "vib.plot(vib=6)"
   ]
  },
  {
   "cell_type": "markdown",
   "metadata": {},
   "source": [
    "#### Inspect vibrational modes of the molecule, practice them over the weekend. \n",
    "#### Provide a sketch of each mode, write down its frequency and assignment (symmetric or assymetric stretch, torsion, scissors, etc). \n",
    "\n",
    "#### Comparison with to experiment. Compare your finding with availiable experimental data (geometry and frequencies). Are the calculated results accurate? How large are computational errors?"
   ]
  },
  {
   "cell_type": "code",
   "execution_count": null,
   "metadata": {},
   "outputs": [],
   "source": [
    "#Response"
   ]
  }
 ],
 "metadata": {
  "kernelspec": {
   "display_name": "Python 3",
   "language": "python",
   "name": "python3"
  },
  "language_info": {
   "codemirror_mode": {
    "name": "ipython",
    "version": 3
   },
   "file_extension": ".py",
   "mimetype": "text/x-python",
   "name": "python",
   "nbconvert_exporter": "python",
   "pygments_lexer": "ipython3",
   "version": "3.7.3"
  }
 },
 "nbformat": 4,
 "nbformat_minor": 2
}
